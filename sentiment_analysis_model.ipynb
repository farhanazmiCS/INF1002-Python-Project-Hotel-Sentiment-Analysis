{
 "cells": [
  {
   "cell_type": "code",
   "execution_count": 1,
   "metadata": {},
   "outputs": [],
   "source": [
    "import numpy as np\n",
    "import pandas as pd\n",
    "import nltk"
   ]
  },
  {
   "cell_type": "markdown",
   "metadata": {},
   "source": [
    "For text feature extraction"
   ]
  },
  {
   "cell_type": "code",
   "execution_count": 2,
   "metadata": {},
   "outputs": [],
   "source": [
    "from sklearn.feature_extraction.text import TfidfVectorizer"
   ]
  },
  {
   "cell_type": "markdown",
   "metadata": {},
   "source": [
    "For splitting the data into training and test data"
   ]
  },
  {
   "cell_type": "code",
   "execution_count": 3,
   "metadata": {},
   "outputs": [],
   "source": [
    "from sklearn.model_selection import train_test_split"
   ]
  },
  {
   "cell_type": "markdown",
   "metadata": {},
   "source": [
    "Gaussian Naive-Bayes Classifier and Multinomial Naive-Bayes Classifier"
   ]
  },
  {
   "cell_type": "code",
   "execution_count": 4,
   "metadata": {},
   "outputs": [],
   "source": [
    "from sklearn.naive_bayes import GaussianNB, MultinomialNB"
   ]
  },
  {
   "cell_type": "markdown",
   "metadata": {},
   "source": [
    "Random Forest Classifier"
   ]
  },
  {
   "cell_type": "code",
   "execution_count": 5,
   "metadata": {},
   "outputs": [],
   "source": [
    "from sklearn.ensemble import RandomForestClassifier"
   ]
  },
  {
   "cell_type": "markdown",
   "metadata": {},
   "source": [
    "Logistic Regression and Stochastic Gradient Descent (SGD) Classifier"
   ]
  },
  {
   "cell_type": "code",
   "execution_count": 6,
   "metadata": {},
   "outputs": [],
   "source": [
    "from sklearn.linear_model import LogisticRegression, SGDClassifier"
   ]
  },
  {
   "cell_type": "markdown",
   "metadata": {},
   "source": [
    "For determining classifier accuracy"
   ]
  },
  {
   "cell_type": "code",
   "execution_count": 7,
   "metadata": {},
   "outputs": [],
   "source": [
    "from sklearn.metrics import accuracy_score, classification_report, confusion_matrix"
   ]
  },
  {
   "cell_type": "markdown",
   "metadata": {},
   "source": [
    "Import data preprocessor functions"
   ]
  },
  {
   "cell_type": "code",
   "execution_count": 8,
   "metadata": {},
   "outputs": [
    {
     "name": "stderr",
     "output_type": "stream",
     "text": [
      "[nltk_data] Downloading package punkt to /Users/farhan/nltk_data...\n",
      "[nltk_data]   Package punkt is already up-to-date!\n",
      "[nltk_data] Downloading package stopwords to\n",
      "[nltk_data]     /Users/farhan/nltk_data...\n",
      "[nltk_data]   Package stopwords is already up-to-date!\n",
      "[nltk_data] Downloading package wordnet to /Users/farhan/nltk_data...\n",
      "[nltk_data]   Package wordnet is already up-to-date!\n",
      "[nltk_data] Downloading package averaged_perceptron_tagger to\n",
      "[nltk_data]     /Users/farhan/nltk_data...\n",
      "[nltk_data]   Package averaged_perceptron_tagger is already up-to-\n",
      "[nltk_data]       date!\n",
      "[nltk_data] Downloading package omw-1.4 to /Users/farhan/nltk_data...\n",
      "[nltk_data]   Package omw-1.4 is already up-to-date!\n"
     ]
    }
   ],
   "source": [
    "from data_preprocessor import *"
   ]
  },
  {
   "cell_type": "markdown",
   "metadata": {},
   "source": [
    "Pickle library to save the trained model's state"
   ]
  },
  {
   "cell_type": "code",
   "execution_count": 9,
   "metadata": {},
   "outputs": [],
   "source": [
    "import pickle"
   ]
  },
  {
   "cell_type": "markdown",
   "metadata": {},
   "source": [
    "# Reading the Data\n",
    "Opening the CSV file and reading it into a Pandas dataframe"
   ]
  },
  {
   "cell_type": "code",
   "execution_count": 10,
   "metadata": {},
   "outputs": [
    {
     "name": "stdout",
     "output_type": "stream",
     "text": [
      "115758\n",
      "10699\n"
     ]
    }
   ],
   "source": [
    "dataset_good = read_file(\"processed_training_and_test_data/Hotel_Reviews_good.csv\")\n",
    "dataset_bad = read_file(\"processed_training_and_test_data/Hotel_Reviews_bad.csv\")\n",
    "\n",
    "print(len(dataset_good))\n",
    "print(len(dataset_bad))"
   ]
  },
  {
   "cell_type": "code",
   "execution_count": 11,
   "metadata": {},
   "outputs": [
    {
     "data": {
      "text/html": [
       "<div>\n",
       "<style scoped>\n",
       "    .dataframe tbody tr th:only-of-type {\n",
       "        vertical-align: middle;\n",
       "    }\n",
       "\n",
       "    .dataframe tbody tr th {\n",
       "        vertical-align: top;\n",
       "    }\n",
       "\n",
       "    .dataframe thead th {\n",
       "        text-align: right;\n",
       "    }\n",
       "</style>\n",
       "<table border=\"1\" class=\"dataframe\">\n",
       "  <thead>\n",
       "    <tr style=\"text-align: right;\">\n",
       "      <th></th>\n",
       "      <th>Unnamed: 0</th>\n",
       "      <th>Hotel_Address</th>\n",
       "      <th>Additional_Number_of_Scoring</th>\n",
       "      <th>Review_Date</th>\n",
       "      <th>Average_Score</th>\n",
       "      <th>Hotel_Name</th>\n",
       "      <th>Reviewer_Nationality</th>\n",
       "      <th>Negative_Review</th>\n",
       "      <th>Review_Total_Negative_Word_Counts</th>\n",
       "      <th>Total_Number_of_Reviews</th>\n",
       "      <th>Positive_Review</th>\n",
       "      <th>Review_Total_Positive_Word_Counts</th>\n",
       "      <th>Total_Number_of_Reviews_Reviewer_Has_Given</th>\n",
       "      <th>Reviewer_Score</th>\n",
       "      <th>Tags</th>\n",
       "      <th>days_since_review</th>\n",
       "      <th>lat</th>\n",
       "      <th>lng</th>\n",
       "      <th>reviewContent</th>\n",
       "      <th>sentiment</th>\n",
       "    </tr>\n",
       "  </thead>\n",
       "  <tbody>\n",
       "    <tr>\n",
       "      <th>0</th>\n",
       "      <td>7</td>\n",
       "      <td>s Gravesandestraat 55 Oost 1092 AA Amsterdam ...</td>\n",
       "      <td>194</td>\n",
       "      <td>7/17/2017</td>\n",
       "      <td>7.7</td>\n",
       "      <td>Hotel Arena</td>\n",
       "      <td>United Kingdom</td>\n",
       "      <td>Apart from the price for the brekfast Everyth...</td>\n",
       "      <td>11</td>\n",
       "      <td>1403</td>\n",
       "      <td>Good location Set in a lovely park friendly s...</td>\n",
       "      <td>19</td>\n",
       "      <td>1</td>\n",
       "      <td>10.0</td>\n",
       "      <td>[' Leisure trip ', ' Couple ', ' Duplex Double...</td>\n",
       "      <td>17 days</td>\n",
       "      <td>52.360576</td>\n",
       "      <td>4.915968</td>\n",
       "      <td>Good location Set in a lovely park friendly s...</td>\n",
       "      <td>Positive</td>\n",
       "    </tr>\n",
       "    <tr>\n",
       "      <th>1</th>\n",
       "      <td>10</td>\n",
       "      <td>s Gravesandestraat 55 Oost 1092 AA Amsterdam ...</td>\n",
       "      <td>194</td>\n",
       "      <td>7/7/17</td>\n",
       "      <td>7.7</td>\n",
       "      <td>Hotel Arena</td>\n",
       "      <td>United Kingdom</td>\n",
       "      <td>Nothing all great</td>\n",
       "      <td>5</td>\n",
       "      <td>1403</td>\n",
       "      <td>Rooms were stunningly decorated and really sp...</td>\n",
       "      <td>101</td>\n",
       "      <td>2</td>\n",
       "      <td>10.0</td>\n",
       "      <td>[' Leisure trip ', ' Group ', ' Duplex Double ...</td>\n",
       "      <td>27 days</td>\n",
       "      <td>52.360576</td>\n",
       "      <td>4.915968</td>\n",
       "      <td>Rooms were stunningly decorated and really sp...</td>\n",
       "      <td>Positive</td>\n",
       "    </tr>\n",
       "    <tr>\n",
       "      <th>2</th>\n",
       "      <td>15</td>\n",
       "      <td>s Gravesandestraat 55 Oost 1092 AA Amsterdam ...</td>\n",
       "      <td>194</td>\n",
       "      <td>7/3/17</td>\n",
       "      <td>7.7</td>\n",
       "      <td>Hotel Arena</td>\n",
       "      <td>Italy</td>\n",
       "      <td>No Negative</td>\n",
       "      <td>0</td>\n",
       "      <td>1403</td>\n",
       "      <td>This hotel is awesome I took it sincirely bec...</td>\n",
       "      <td>82</td>\n",
       "      <td>26</td>\n",
       "      <td>10.0</td>\n",
       "      <td>[' Leisure trip ', ' Couple ', ' Duplex Double...</td>\n",
       "      <td>31 days</td>\n",
       "      <td>52.360576</td>\n",
       "      <td>4.915968</td>\n",
       "      <td>This hotel is awesome I took it sincirely bec...</td>\n",
       "      <td>Positive</td>\n",
       "    </tr>\n",
       "    <tr>\n",
       "      <th>3</th>\n",
       "      <td>48</td>\n",
       "      <td>s Gravesandestraat 55 Oost 1092 AA Amsterdam ...</td>\n",
       "      <td>194</td>\n",
       "      <td>3/22/2017</td>\n",
       "      <td>7.7</td>\n",
       "      <td>Hotel Arena</td>\n",
       "      <td>United Kingdom</td>\n",
       "      <td>No Negative</td>\n",
       "      <td>0</td>\n",
       "      <td>1403</td>\n",
       "      <td>The quality of the hotel was brilliant and ev...</td>\n",
       "      <td>77</td>\n",
       "      <td>3</td>\n",
       "      <td>10.0</td>\n",
       "      <td>[' Leisure trip ', ' Couple ', ' Duplex Double...</td>\n",
       "      <td>134 day</td>\n",
       "      <td>52.360576</td>\n",
       "      <td>4.915968</td>\n",
       "      <td>The quality of the hotel was brilliant and ev...</td>\n",
       "      <td>Positive</td>\n",
       "    </tr>\n",
       "    <tr>\n",
       "      <th>4</th>\n",
       "      <td>52</td>\n",
       "      <td>s Gravesandestraat 55 Oost 1092 AA Amsterdam ...</td>\n",
       "      <td>194</td>\n",
       "      <td>3/18/2017</td>\n",
       "      <td>7.7</td>\n",
       "      <td>Hotel Arena</td>\n",
       "      <td>Netherlands</td>\n",
       "      <td>I loved everything</td>\n",
       "      <td>5</td>\n",
       "      <td>1403</td>\n",
       "      <td>The location in a quiet park with a great ter...</td>\n",
       "      <td>65</td>\n",
       "      <td>34</td>\n",
       "      <td>10.0</td>\n",
       "      <td>[' Leisure trip ', ' Couple ', ' Duplex Twin R...</td>\n",
       "      <td>138 day</td>\n",
       "      <td>52.360576</td>\n",
       "      <td>4.915968</td>\n",
       "      <td>The location in a quiet park with a great ter...</td>\n",
       "      <td>Positive</td>\n",
       "    </tr>\n",
       "  </tbody>\n",
       "</table>\n",
       "</div>"
      ],
      "text/plain": [
       "   Unnamed: 0                                      Hotel_Address  \\\n",
       "0           7   s Gravesandestraat 55 Oost 1092 AA Amsterdam ...   \n",
       "1          10   s Gravesandestraat 55 Oost 1092 AA Amsterdam ...   \n",
       "2          15   s Gravesandestraat 55 Oost 1092 AA Amsterdam ...   \n",
       "3          48   s Gravesandestraat 55 Oost 1092 AA Amsterdam ...   \n",
       "4          52   s Gravesandestraat 55 Oost 1092 AA Amsterdam ...   \n",
       "\n",
       "   Additional_Number_of_Scoring Review_Date  Average_Score   Hotel_Name  \\\n",
       "0                           194   7/17/2017            7.7  Hotel Arena   \n",
       "1                           194      7/7/17            7.7  Hotel Arena   \n",
       "2                           194      7/3/17            7.7  Hotel Arena   \n",
       "3                           194   3/22/2017            7.7  Hotel Arena   \n",
       "4                           194   3/18/2017            7.7  Hotel Arena   \n",
       "\n",
       "  Reviewer_Nationality                                    Negative_Review  \\\n",
       "0      United Kingdom    Apart from the price for the brekfast Everyth...   \n",
       "1      United Kingdom                                  Nothing all great    \n",
       "2               Italy                                         No Negative   \n",
       "3      United Kingdom                                         No Negative   \n",
       "4         Netherlands                                 I loved everything    \n",
       "\n",
       "   Review_Total_Negative_Word_Counts  Total_Number_of_Reviews  \\\n",
       "0                                 11                     1403   \n",
       "1                                  5                     1403   \n",
       "2                                  0                     1403   \n",
       "3                                  0                     1403   \n",
       "4                                  5                     1403   \n",
       "\n",
       "                                     Positive_Review  \\\n",
       "0   Good location Set in a lovely park friendly s...   \n",
       "1   Rooms were stunningly decorated and really sp...   \n",
       "2   This hotel is awesome I took it sincirely bec...   \n",
       "3   The quality of the hotel was brilliant and ev...   \n",
       "4   The location in a quiet park with a great ter...   \n",
       "\n",
       "   Review_Total_Positive_Word_Counts  \\\n",
       "0                                 19   \n",
       "1                                101   \n",
       "2                                 82   \n",
       "3                                 77   \n",
       "4                                 65   \n",
       "\n",
       "   Total_Number_of_Reviews_Reviewer_Has_Given  Reviewer_Score  \\\n",
       "0                                           1            10.0   \n",
       "1                                           2            10.0   \n",
       "2                                          26            10.0   \n",
       "3                                           3            10.0   \n",
       "4                                          34            10.0   \n",
       "\n",
       "                                                Tags days_since_review  \\\n",
       "0  [' Leisure trip ', ' Couple ', ' Duplex Double...           17 days   \n",
       "1  [' Leisure trip ', ' Group ', ' Duplex Double ...           27 days   \n",
       "2  [' Leisure trip ', ' Couple ', ' Duplex Double...           31 days   \n",
       "3  [' Leisure trip ', ' Couple ', ' Duplex Double...           134 day   \n",
       "4  [' Leisure trip ', ' Couple ', ' Duplex Twin R...           138 day   \n",
       "\n",
       "         lat       lng                                      reviewContent  \\\n",
       "0  52.360576  4.915968   Good location Set in a lovely park friendly s...   \n",
       "1  52.360576  4.915968   Rooms were stunningly decorated and really sp...   \n",
       "2  52.360576  4.915968   This hotel is awesome I took it sincirely bec...   \n",
       "3  52.360576  4.915968   The quality of the hotel was brilliant and ev...   \n",
       "4  52.360576  4.915968   The location in a quiet park with a great ter...   \n",
       "\n",
       "  sentiment  \n",
       "0  Positive  \n",
       "1  Positive  \n",
       "2  Positive  \n",
       "3  Positive  \n",
       "4  Positive  "
      ]
     },
     "execution_count": 11,
     "metadata": {},
     "output_type": "execute_result"
    }
   ],
   "source": [
    "dataset_good.head()"
   ]
  },
  {
   "cell_type": "code",
   "execution_count": null,
   "metadata": {},
   "outputs": [],
   "source": [
    "dataset_bad.head()"
   ]
  },
  {
   "cell_type": "markdown",
   "metadata": {},
   "source": [
    "Each review sentiment category will have 10000 samples (This is due to not having enough bad reviews, and some reviews have to be used for test data)"
   ]
  },
  {
   "cell_type": "code",
   "execution_count": 12,
   "metadata": {},
   "outputs": [],
   "source": [
    "dataset_good_sample = dataset_good.sample(n=10000)"
   ]
  },
  {
   "cell_type": "code",
   "execution_count": 13,
   "metadata": {},
   "outputs": [],
   "source": [
    "dataset_bad_sample = dataset_bad.sample(n=10000)"
   ]
  },
  {
   "cell_type": "code",
   "execution_count": 14,
   "metadata": {},
   "outputs": [
    {
     "data": {
      "text/html": [
       "<div>\n",
       "<style scoped>\n",
       "    .dataframe tbody tr th:only-of-type {\n",
       "        vertical-align: middle;\n",
       "    }\n",
       "\n",
       "    .dataframe tbody tr th {\n",
       "        vertical-align: top;\n",
       "    }\n",
       "\n",
       "    .dataframe thead th {\n",
       "        text-align: right;\n",
       "    }\n",
       "</style>\n",
       "<table border=\"1\" class=\"dataframe\">\n",
       "  <thead>\n",
       "    <tr style=\"text-align: right;\">\n",
       "      <th></th>\n",
       "      <th>Unnamed: 0</th>\n",
       "      <th>Hotel_Address</th>\n",
       "      <th>Additional_Number_of_Scoring</th>\n",
       "      <th>Review_Date</th>\n",
       "      <th>Average_Score</th>\n",
       "      <th>Hotel_Name</th>\n",
       "      <th>Reviewer_Nationality</th>\n",
       "      <th>Negative_Review</th>\n",
       "      <th>Review_Total_Negative_Word_Counts</th>\n",
       "      <th>Total_Number_of_Reviews</th>\n",
       "      <th>Positive_Review</th>\n",
       "      <th>Review_Total_Positive_Word_Counts</th>\n",
       "      <th>Total_Number_of_Reviews_Reviewer_Has_Given</th>\n",
       "      <th>Reviewer_Score</th>\n",
       "      <th>Tags</th>\n",
       "      <th>days_since_review</th>\n",
       "      <th>lat</th>\n",
       "      <th>lng</th>\n",
       "      <th>reviewContent</th>\n",
       "      <th>sentiment</th>\n",
       "    </tr>\n",
       "  </thead>\n",
       "  <tbody>\n",
       "    <tr>\n",
       "      <th>1422</th>\n",
       "      <td>6795</td>\n",
       "      <td>1 Addington Street Lambeth London SE1 7RY Unit...</td>\n",
       "      <td>1322</td>\n",
       "      <td>10/31/2016</td>\n",
       "      <td>8.4</td>\n",
       "      <td>Park Plaza County Hall London</td>\n",
       "      <td>United Kingdom</td>\n",
       "      <td>Nothing</td>\n",
       "      <td>3</td>\n",
       "      <td>6117</td>\n",
       "      <td>Excellent location and knowledgable staff</td>\n",
       "      <td>6</td>\n",
       "      <td>2</td>\n",
       "      <td>10.0</td>\n",
       "      <td>[' Leisure trip ', ' Family with young childre...</td>\n",
       "      <td>276 day</td>\n",
       "      <td>51.501400</td>\n",
       "      <td>-0.116009</td>\n",
       "      <td>Excellent location and knowledgable staff</td>\n",
       "      <td>Positive</td>\n",
       "    </tr>\n",
       "    <tr>\n",
       "      <th>72394</th>\n",
       "      <td>326420</td>\n",
       "      <td>George Gershwinlaan 101 Zuideramstel 1082 MT A...</td>\n",
       "      <td>203</td>\n",
       "      <td>7/19/2016</td>\n",
       "      <td>9.0</td>\n",
       "      <td>Crowne Plaza Amsterdam South</td>\n",
       "      <td>Philippines</td>\n",
       "      <td>Slow cleaning service</td>\n",
       "      <td>4</td>\n",
       "      <td>1349</td>\n",
       "      <td>Housekeeper Michael is excellent Very attenti...</td>\n",
       "      <td>18</td>\n",
       "      <td>2</td>\n",
       "      <td>10.0</td>\n",
       "      <td>[' Business trip ', ' Group ', ' Superior Twin...</td>\n",
       "      <td>380 day</td>\n",
       "      <td>52.335733</td>\n",
       "      <td>4.874395</td>\n",
       "      <td>Housekeeper Michael is excellent Very attenti...</td>\n",
       "      <td>Positive</td>\n",
       "    </tr>\n",
       "    <tr>\n",
       "      <th>11292</th>\n",
       "      <td>48526</td>\n",
       "      <td>14 16 Craven Hill Lancaster Gate Westminster B...</td>\n",
       "      <td>289</td>\n",
       "      <td>2/16/2017</td>\n",
       "      <td>8.8</td>\n",
       "      <td>Park Grand London Lancaster Gate</td>\n",
       "      <td>Australia</td>\n",
       "      <td>The rooms were very small</td>\n",
       "      <td>6</td>\n",
       "      <td>1519</td>\n",
       "      <td>The beds were really comfy and staff were rea...</td>\n",
       "      <td>11</td>\n",
       "      <td>1</td>\n",
       "      <td>10.0</td>\n",
       "      <td>[' Leisure trip ', ' Group ', ' Club Double Ro...</td>\n",
       "      <td>168 day</td>\n",
       "      <td>51.513207</td>\n",
       "      <td>-0.180782</td>\n",
       "      <td>The beds were really comfy and staff were rea...</td>\n",
       "      <td>Positive</td>\n",
       "    </tr>\n",
       "    <tr>\n",
       "      <th>58800</th>\n",
       "      <td>265965</td>\n",
       "      <td>Albany Street London NW1 3UP United Kingdom</td>\n",
       "      <td>354</td>\n",
       "      <td>8/18/2015</td>\n",
       "      <td>8.3</td>\n",
       "      <td>Melia White House Hotel</td>\n",
       "      <td>United Kingdom</td>\n",
       "      <td>Some staff couldn t understand english</td>\n",
       "      <td>7</td>\n",
       "      <td>1871</td>\n",
       "      <td>Lovely hotel wil stay here again</td>\n",
       "      <td>7</td>\n",
       "      <td>2</td>\n",
       "      <td>10.0</td>\n",
       "      <td>[' Leisure trip ', ' Couple ', ' Classic Twin ...</td>\n",
       "      <td>716 day</td>\n",
       "      <td>51.529860</td>\n",
       "      <td>-0.144462</td>\n",
       "      <td>Lovely hotel wil stay here again</td>\n",
       "      <td>Positive</td>\n",
       "    </tr>\n",
       "    <tr>\n",
       "      <th>79101</th>\n",
       "      <td>356553</td>\n",
       "      <td>Keizersgracht 384 Amsterdam City Center 1016 G...</td>\n",
       "      <td>64</td>\n",
       "      <td>6/11/16</td>\n",
       "      <td>9.1</td>\n",
       "      <td>The Dylan Amsterdam</td>\n",
       "      <td>United States of America</td>\n",
       "      <td>No Negative</td>\n",
       "      <td>0</td>\n",
       "      <td>314</td>\n",
       "      <td>Great location and wonderful stsff</td>\n",
       "      <td>6</td>\n",
       "      <td>1</td>\n",
       "      <td>10.0</td>\n",
       "      <td>[' Leisure trip ', ' Couple ', ' Double Room '...</td>\n",
       "      <td>418 day</td>\n",
       "      <td>52.365469</td>\n",
       "      <td>4.879871</td>\n",
       "      <td>Great location and wonderful stsff</td>\n",
       "      <td>Positive</td>\n",
       "    </tr>\n",
       "  </tbody>\n",
       "</table>\n",
       "</div>"
      ],
      "text/plain": [
       "       Unnamed: 0                                      Hotel_Address  \\\n",
       "1422         6795  1 Addington Street Lambeth London SE1 7RY Unit...   \n",
       "72394      326420  George Gershwinlaan 101 Zuideramstel 1082 MT A...   \n",
       "11292       48526  14 16 Craven Hill Lancaster Gate Westminster B...   \n",
       "58800      265965        Albany Street London NW1 3UP United Kingdom   \n",
       "79101      356553  Keizersgracht 384 Amsterdam City Center 1016 G...   \n",
       "\n",
       "       Additional_Number_of_Scoring Review_Date  Average_Score  \\\n",
       "1422                           1322  10/31/2016            8.4   \n",
       "72394                           203   7/19/2016            9.0   \n",
       "11292                           289   2/16/2017            8.8   \n",
       "58800                           354   8/18/2015            8.3   \n",
       "79101                            64     6/11/16            9.1   \n",
       "\n",
       "                             Hotel_Name        Reviewer_Nationality  \\\n",
       "1422      Park Plaza County Hall London             United Kingdom    \n",
       "72394      Crowne Plaza Amsterdam South                Philippines    \n",
       "11292  Park Grand London Lancaster Gate                  Australia    \n",
       "58800           Melia White House Hotel             United Kingdom    \n",
       "79101               The Dylan Amsterdam   United States of America    \n",
       "\n",
       "                               Negative_Review  \\\n",
       "1422                                  Nothing    \n",
       "72394                    Slow cleaning service   \n",
       "11292                The rooms were very small   \n",
       "58800   Some staff couldn t understand english   \n",
       "79101                              No Negative   \n",
       "\n",
       "       Review_Total_Negative_Word_Counts  Total_Number_of_Reviews  \\\n",
       "1422                                   3                     6117   \n",
       "72394                                  4                     1349   \n",
       "11292                                  6                     1519   \n",
       "58800                                  7                     1871   \n",
       "79101                                  0                      314   \n",
       "\n",
       "                                         Positive_Review  \\\n",
       "1422           Excellent location and knowledgable staff   \n",
       "72394   Housekeeper Michael is excellent Very attenti...   \n",
       "11292   The beds were really comfy and staff were rea...   \n",
       "58800                   Lovely hotel wil stay here again   \n",
       "79101                 Great location and wonderful stsff   \n",
       "\n",
       "       Review_Total_Positive_Word_Counts  \\\n",
       "1422                                   6   \n",
       "72394                                 18   \n",
       "11292                                 11   \n",
       "58800                                  7   \n",
       "79101                                  6   \n",
       "\n",
       "       Total_Number_of_Reviews_Reviewer_Has_Given  Reviewer_Score  \\\n",
       "1422                                            2            10.0   \n",
       "72394                                           2            10.0   \n",
       "11292                                           1            10.0   \n",
       "58800                                           2            10.0   \n",
       "79101                                           1            10.0   \n",
       "\n",
       "                                                    Tags days_since_review  \\\n",
       "1422   [' Leisure trip ', ' Family with young childre...           276 day   \n",
       "72394  [' Business trip ', ' Group ', ' Superior Twin...           380 day   \n",
       "11292  [' Leisure trip ', ' Group ', ' Club Double Ro...           168 day   \n",
       "58800  [' Leisure trip ', ' Couple ', ' Classic Twin ...           716 day   \n",
       "79101  [' Leisure trip ', ' Couple ', ' Double Room '...           418 day   \n",
       "\n",
       "             lat       lng                                      reviewContent  \\\n",
       "1422   51.501400 -0.116009          Excellent location and knowledgable staff   \n",
       "72394  52.335733  4.874395   Housekeeper Michael is excellent Very attenti...   \n",
       "11292  51.513207 -0.180782   The beds were really comfy and staff were rea...   \n",
       "58800  51.529860 -0.144462                   Lovely hotel wil stay here again   \n",
       "79101  52.365469  4.879871                 Great location and wonderful stsff   \n",
       "\n",
       "      sentiment  \n",
       "1422   Positive  \n",
       "72394  Positive  \n",
       "11292  Positive  \n",
       "58800  Positive  \n",
       "79101  Positive  "
      ]
     },
     "execution_count": 14,
     "metadata": {},
     "output_type": "execute_result"
    }
   ],
   "source": [
    "dataset_good_sample.head()"
   ]
  },
  {
   "cell_type": "markdown",
   "metadata": {},
   "source": [
    "Reset the index (As the sample is random, the index must be reset)"
   ]
  },
  {
   "cell_type": "code",
   "execution_count": 15,
   "metadata": {},
   "outputs": [
    {
     "name": "stdout",
     "output_type": "stream",
     "text": [
      "Number of good reviews: 10000\n"
     ]
    }
   ],
   "source": [
    "dataset_good_sample = dataset_good_sample.reset_index(drop=True)\n",
    "print(f\"Number of good reviews: {len(dataset_good_sample)}\")"
   ]
  },
  {
   "cell_type": "code",
   "execution_count": 16,
   "metadata": {},
   "outputs": [
    {
     "name": "stdout",
     "output_type": "stream",
     "text": [
      "Number of bad reviews: 10000\n"
     ]
    }
   ],
   "source": [
    "dataset_bad_sample = dataset_bad_sample.reset_index(drop=True)\n",
    "print(f\"Number of bad reviews: {len(dataset_bad_sample)}\")"
   ]
  },
  {
   "cell_type": "markdown",
   "metadata": {},
   "source": [
    "Combine both positive and negative reviews to a dataframe"
   ]
  },
  {
   "cell_type": "code",
   "execution_count": 17,
   "metadata": {},
   "outputs": [],
   "source": [
    "dataset = pd.concat([dataset_good_sample, dataset_bad_sample])\n",
    "dataset[\"reviews\"] = dataset[\"reviewContent\"]"
   ]
  },
  {
   "cell_type": "code",
   "execution_count": 18,
   "metadata": {},
   "outputs": [
    {
     "data": {
      "text/html": [
       "<div>\n",
       "<style scoped>\n",
       "    .dataframe tbody tr th:only-of-type {\n",
       "        vertical-align: middle;\n",
       "    }\n",
       "\n",
       "    .dataframe tbody tr th {\n",
       "        vertical-align: top;\n",
       "    }\n",
       "\n",
       "    .dataframe thead th {\n",
       "        text-align: right;\n",
       "    }\n",
       "</style>\n",
       "<table border=\"1\" class=\"dataframe\">\n",
       "  <thead>\n",
       "    <tr style=\"text-align: right;\">\n",
       "      <th></th>\n",
       "      <th>Unnamed: 0</th>\n",
       "      <th>Hotel_Address</th>\n",
       "      <th>Additional_Number_of_Scoring</th>\n",
       "      <th>Review_Date</th>\n",
       "      <th>Average_Score</th>\n",
       "      <th>Hotel_Name</th>\n",
       "      <th>Reviewer_Nationality</th>\n",
       "      <th>Negative_Review</th>\n",
       "      <th>Review_Total_Negative_Word_Counts</th>\n",
       "      <th>Total_Number_of_Reviews</th>\n",
       "      <th>...</th>\n",
       "      <th>Review_Total_Positive_Word_Counts</th>\n",
       "      <th>Total_Number_of_Reviews_Reviewer_Has_Given</th>\n",
       "      <th>Reviewer_Score</th>\n",
       "      <th>Tags</th>\n",
       "      <th>days_since_review</th>\n",
       "      <th>lat</th>\n",
       "      <th>lng</th>\n",
       "      <th>reviewContent</th>\n",
       "      <th>sentiment</th>\n",
       "      <th>reviews</th>\n",
       "    </tr>\n",
       "  </thead>\n",
       "  <tbody>\n",
       "    <tr>\n",
       "      <th>0</th>\n",
       "      <td>6795</td>\n",
       "      <td>1 Addington Street Lambeth London SE1 7RY Unit...</td>\n",
       "      <td>1322</td>\n",
       "      <td>10/31/2016</td>\n",
       "      <td>8.4</td>\n",
       "      <td>Park Plaza County Hall London</td>\n",
       "      <td>United Kingdom</td>\n",
       "      <td>Nothing</td>\n",
       "      <td>3</td>\n",
       "      <td>6117</td>\n",
       "      <td>...</td>\n",
       "      <td>6</td>\n",
       "      <td>2</td>\n",
       "      <td>10.0</td>\n",
       "      <td>[' Leisure trip ', ' Family with young childre...</td>\n",
       "      <td>276 day</td>\n",
       "      <td>51.501400</td>\n",
       "      <td>-0.116009</td>\n",
       "      <td>Excellent location and knowledgable staff</td>\n",
       "      <td>Positive</td>\n",
       "      <td>Excellent location and knowledgable staff</td>\n",
       "    </tr>\n",
       "    <tr>\n",
       "      <th>1</th>\n",
       "      <td>326420</td>\n",
       "      <td>George Gershwinlaan 101 Zuideramstel 1082 MT A...</td>\n",
       "      <td>203</td>\n",
       "      <td>7/19/2016</td>\n",
       "      <td>9.0</td>\n",
       "      <td>Crowne Plaza Amsterdam South</td>\n",
       "      <td>Philippines</td>\n",
       "      <td>Slow cleaning service</td>\n",
       "      <td>4</td>\n",
       "      <td>1349</td>\n",
       "      <td>...</td>\n",
       "      <td>18</td>\n",
       "      <td>2</td>\n",
       "      <td>10.0</td>\n",
       "      <td>[' Business trip ', ' Group ', ' Superior Twin...</td>\n",
       "      <td>380 day</td>\n",
       "      <td>52.335733</td>\n",
       "      <td>4.874395</td>\n",
       "      <td>Housekeeper Michael is excellent Very attenti...</td>\n",
       "      <td>Positive</td>\n",
       "      <td>Housekeeper Michael is excellent Very attenti...</td>\n",
       "    </tr>\n",
       "    <tr>\n",
       "      <th>2</th>\n",
       "      <td>48526</td>\n",
       "      <td>14 16 Craven Hill Lancaster Gate Westminster B...</td>\n",
       "      <td>289</td>\n",
       "      <td>2/16/2017</td>\n",
       "      <td>8.8</td>\n",
       "      <td>Park Grand London Lancaster Gate</td>\n",
       "      <td>Australia</td>\n",
       "      <td>The rooms were very small</td>\n",
       "      <td>6</td>\n",
       "      <td>1519</td>\n",
       "      <td>...</td>\n",
       "      <td>11</td>\n",
       "      <td>1</td>\n",
       "      <td>10.0</td>\n",
       "      <td>[' Leisure trip ', ' Group ', ' Club Double Ro...</td>\n",
       "      <td>168 day</td>\n",
       "      <td>51.513207</td>\n",
       "      <td>-0.180782</td>\n",
       "      <td>The beds were really comfy and staff were rea...</td>\n",
       "      <td>Positive</td>\n",
       "      <td>The beds were really comfy and staff were rea...</td>\n",
       "    </tr>\n",
       "    <tr>\n",
       "      <th>3</th>\n",
       "      <td>265965</td>\n",
       "      <td>Albany Street London NW1 3UP United Kingdom</td>\n",
       "      <td>354</td>\n",
       "      <td>8/18/2015</td>\n",
       "      <td>8.3</td>\n",
       "      <td>Melia White House Hotel</td>\n",
       "      <td>United Kingdom</td>\n",
       "      <td>Some staff couldn t understand english</td>\n",
       "      <td>7</td>\n",
       "      <td>1871</td>\n",
       "      <td>...</td>\n",
       "      <td>7</td>\n",
       "      <td>2</td>\n",
       "      <td>10.0</td>\n",
       "      <td>[' Leisure trip ', ' Couple ', ' Classic Twin ...</td>\n",
       "      <td>716 day</td>\n",
       "      <td>51.529860</td>\n",
       "      <td>-0.144462</td>\n",
       "      <td>Lovely hotel wil stay here again</td>\n",
       "      <td>Positive</td>\n",
       "      <td>Lovely hotel wil stay here again</td>\n",
       "    </tr>\n",
       "    <tr>\n",
       "      <th>4</th>\n",
       "      <td>356553</td>\n",
       "      <td>Keizersgracht 384 Amsterdam City Center 1016 G...</td>\n",
       "      <td>64</td>\n",
       "      <td>6/11/16</td>\n",
       "      <td>9.1</td>\n",
       "      <td>The Dylan Amsterdam</td>\n",
       "      <td>United States of America</td>\n",
       "      <td>No Negative</td>\n",
       "      <td>0</td>\n",
       "      <td>314</td>\n",
       "      <td>...</td>\n",
       "      <td>6</td>\n",
       "      <td>1</td>\n",
       "      <td>10.0</td>\n",
       "      <td>[' Leisure trip ', ' Couple ', ' Double Room '...</td>\n",
       "      <td>418 day</td>\n",
       "      <td>52.365469</td>\n",
       "      <td>4.879871</td>\n",
       "      <td>Great location and wonderful stsff</td>\n",
       "      <td>Positive</td>\n",
       "      <td>Great location and wonderful stsff</td>\n",
       "    </tr>\n",
       "  </tbody>\n",
       "</table>\n",
       "<p>5 rows × 21 columns</p>\n",
       "</div>"
      ],
      "text/plain": [
       "   Unnamed: 0                                      Hotel_Address  \\\n",
       "0        6795  1 Addington Street Lambeth London SE1 7RY Unit...   \n",
       "1      326420  George Gershwinlaan 101 Zuideramstel 1082 MT A...   \n",
       "2       48526  14 16 Craven Hill Lancaster Gate Westminster B...   \n",
       "3      265965        Albany Street London NW1 3UP United Kingdom   \n",
       "4      356553  Keizersgracht 384 Amsterdam City Center 1016 G...   \n",
       "\n",
       "   Additional_Number_of_Scoring Review_Date  Average_Score  \\\n",
       "0                          1322  10/31/2016            8.4   \n",
       "1                           203   7/19/2016            9.0   \n",
       "2                           289   2/16/2017            8.8   \n",
       "3                           354   8/18/2015            8.3   \n",
       "4                            64     6/11/16            9.1   \n",
       "\n",
       "                         Hotel_Name        Reviewer_Nationality  \\\n",
       "0     Park Plaza County Hall London             United Kingdom    \n",
       "1      Crowne Plaza Amsterdam South                Philippines    \n",
       "2  Park Grand London Lancaster Gate                  Australia    \n",
       "3           Melia White House Hotel             United Kingdom    \n",
       "4               The Dylan Amsterdam   United States of America    \n",
       "\n",
       "                           Negative_Review  Review_Total_Negative_Word_Counts  \\\n",
       "0                                 Nothing                                   3   \n",
       "1                    Slow cleaning service                                  4   \n",
       "2                The rooms were very small                                  6   \n",
       "3   Some staff couldn t understand english                                  7   \n",
       "4                              No Negative                                  0   \n",
       "\n",
       "   Total_Number_of_Reviews  ... Review_Total_Positive_Word_Counts  \\\n",
       "0                     6117  ...                                 6   \n",
       "1                     1349  ...                                18   \n",
       "2                     1519  ...                                11   \n",
       "3                     1871  ...                                 7   \n",
       "4                      314  ...                                 6   \n",
       "\n",
       "   Total_Number_of_Reviews_Reviewer_Has_Given  Reviewer_Score  \\\n",
       "0                                           2            10.0   \n",
       "1                                           2            10.0   \n",
       "2                                           1            10.0   \n",
       "3                                           2            10.0   \n",
       "4                                           1            10.0   \n",
       "\n",
       "                                                Tags days_since_review  \\\n",
       "0  [' Leisure trip ', ' Family with young childre...           276 day   \n",
       "1  [' Business trip ', ' Group ', ' Superior Twin...           380 day   \n",
       "2  [' Leisure trip ', ' Group ', ' Club Double Ro...           168 day   \n",
       "3  [' Leisure trip ', ' Couple ', ' Classic Twin ...           716 day   \n",
       "4  [' Leisure trip ', ' Couple ', ' Double Room '...           418 day   \n",
       "\n",
       "         lat       lng                                      reviewContent  \\\n",
       "0  51.501400 -0.116009          Excellent location and knowledgable staff   \n",
       "1  52.335733  4.874395   Housekeeper Michael is excellent Very attenti...   \n",
       "2  51.513207 -0.180782   The beds were really comfy and staff were rea...   \n",
       "3  51.529860 -0.144462                   Lovely hotel wil stay here again   \n",
       "4  52.365469  4.879871                 Great location and wonderful stsff   \n",
       "\n",
       "  sentiment                                            reviews  \n",
       "0  Positive          Excellent location and knowledgable staff  \n",
       "1  Positive   Housekeeper Michael is excellent Very attenti...  \n",
       "2  Positive   The beds were really comfy and staff were rea...  \n",
       "3  Positive                   Lovely hotel wil stay here again  \n",
       "4  Positive                 Great location and wonderful stsff  \n",
       "\n",
       "[5 rows x 21 columns]"
      ]
     },
     "execution_count": 18,
     "metadata": {},
     "output_type": "execute_result"
    }
   ],
   "source": [
    "dataset.head()"
   ]
  },
  {
   "cell_type": "markdown",
   "metadata": {},
   "source": [
    "Convert the reviews to a list, for data preprocessing"
   ]
  },
  {
   "cell_type": "code",
   "execution_count": 19,
   "metadata": {},
   "outputs": [],
   "source": [
    "reviews = reviews_to_list(dataset)"
   ]
  },
  {
   "cell_type": "markdown",
   "metadata": {},
   "source": [
    "# Data Preprocessing\n",
    "The data preprocessing step consists of five major steps:\n",
    "\n",
    "1. Tokenization: The process of taking each review, in the form of a sentence, and retrieving the words in each review. Also removes any punctuation in the review.\n",
    "2. Normalizing (Lemmatizing): Reduce each word to its most basic form. For example, without the tag, the word __*leaves*__ would be lemmatized to __*leaf*__, whereas the tagged version would be lemmatized to __*leave*__.\n",
    "3. Removing Noise: Removes stopwords and numbers.\n",
    "4. Forming corpuses: All the normalised words in each review will be combined to a sentence called a corpus.\n",
    "5. Feature extraction: Extract all the features from the review(s)."
   ]
  },
  {
   "cell_type": "code",
   "execution_count": 20,
   "metadata": {},
   "outputs": [],
   "source": [
    "processed_reviews = [text_preprocessing(review) for review in reviews]"
   ]
  },
  {
   "cell_type": "code",
   "execution_count": 21,
   "metadata": {},
   "outputs": [],
   "source": [
    "corpus = form_corpus(processed_reviews)"
   ]
  },
  {
   "cell_type": "code",
   "execution_count": 22,
   "metadata": {},
   "outputs": [
    {
     "name": "stdout",
     "output_type": "stream",
     "text": [
      "excellent location knowledgable staff\n",
      "housekeeper michael excellent attentive desk staff wonderful\n",
      "bed comfy staff friendly\n",
      "lovely hotel wil stay\n",
      "great location wonderful stsff\n",
      "...\n"
     ]
    }
   ],
   "source": [
    "for i in range(5):\n",
    "    print(corpus[i])\n",
    "print('...')"
   ]
  },
  {
   "cell_type": "code",
   "execution_count": 23,
   "metadata": {},
   "outputs": [],
   "source": [
    "vectorizer = vectorizer()"
   ]
  },
  {
   "cell_type": "markdown",
   "metadata": {},
   "source": [
    "The numbers in the list of lists below indicate the occurrence of each feature (word) in the review. For example, the word __bed__ appears once in the second review (corpus), and hence, 1 appears in the second list (NOTE: Just an example of how the `fit_transform().toarray()` method works)."
   ]
  },
  {
   "cell_type": "code",
   "execution_count": 24,
   "metadata": {},
   "outputs": [
    {
     "name": "stdout",
     "output_type": "stream",
     "text": [
      "[[0. 0. 0. ... 0. 0. 0.]\n",
      " [0. 0. 0. ... 0. 0. 0.]\n",
      " [0. 0. 0. ... 0. 0. 0.]\n",
      " ...\n",
      " [0. 0. 0. ... 0. 0. 0.]\n",
      " [0. 0. 0. ... 0. 0. 0.]\n",
      " [0. 0. 0. ... 0. 0. 0.]]\n",
      "\n",
      "12992\n"
     ]
    }
   ],
   "source": [
    "features = vectorizer.fit_transform(corpus).toarray()\n",
    "\n",
    "print(features, end='\\n\\n')\n",
    "print(len(features[0]))"
   ]
  },
  {
   "cell_type": "code",
   "execution_count": 25,
   "metadata": {},
   "outputs": [
    {
     "data": {
      "text/html": [
       "<div>\n",
       "<style scoped>\n",
       "    .dataframe tbody tr th:only-of-type {\n",
       "        vertical-align: middle;\n",
       "    }\n",
       "\n",
       "    .dataframe tbody tr th {\n",
       "        vertical-align: top;\n",
       "    }\n",
       "\n",
       "    .dataframe thead th {\n",
       "        text-align: right;\n",
       "    }\n",
       "</style>\n",
       "<table border=\"1\" class=\"dataframe\">\n",
       "  <thead>\n",
       "    <tr style=\"text-align: right;\">\n",
       "      <th></th>\n",
       "      <th>aa</th>\n",
       "      <th>aaawas</th>\n",
       "      <th>aafter</th>\n",
       "      <th>aand</th>\n",
       "      <th>aarangements</th>\n",
       "      <th>aback</th>\n",
       "      <th>abad</th>\n",
       "      <th>abandon</th>\n",
       "      <th>abandoned</th>\n",
       "      <th>abbey</th>\n",
       "      <th>...</th>\n",
       "      <th>zita</th>\n",
       "      <th>zlatki</th>\n",
       "      <th>zoltan</th>\n",
       "      <th>zombie</th>\n",
       "      <th>zone</th>\n",
       "      <th>zoo</th>\n",
       "      <th>zore</th>\n",
       "      <th>ztaff</th>\n",
       "      <th>zuid</th>\n",
       "      <th>zusje</th>\n",
       "    </tr>\n",
       "  </thead>\n",
       "  <tbody>\n",
       "    <tr>\n",
       "      <th>19995</th>\n",
       "      <td>0.0</td>\n",
       "      <td>0.0</td>\n",
       "      <td>0.0</td>\n",
       "      <td>0.0</td>\n",
       "      <td>0.0</td>\n",
       "      <td>0.0</td>\n",
       "      <td>0.0</td>\n",
       "      <td>0.0</td>\n",
       "      <td>0.0</td>\n",
       "      <td>0.0</td>\n",
       "      <td>...</td>\n",
       "      <td>0.0</td>\n",
       "      <td>0.0</td>\n",
       "      <td>0.0</td>\n",
       "      <td>0.0</td>\n",
       "      <td>0.0</td>\n",
       "      <td>0.0</td>\n",
       "      <td>0.0</td>\n",
       "      <td>0.0</td>\n",
       "      <td>0.0</td>\n",
       "      <td>0.0</td>\n",
       "    </tr>\n",
       "    <tr>\n",
       "      <th>19996</th>\n",
       "      <td>0.0</td>\n",
       "      <td>0.0</td>\n",
       "      <td>0.0</td>\n",
       "      <td>0.0</td>\n",
       "      <td>0.0</td>\n",
       "      <td>0.0</td>\n",
       "      <td>0.0</td>\n",
       "      <td>0.0</td>\n",
       "      <td>0.0</td>\n",
       "      <td>0.0</td>\n",
       "      <td>...</td>\n",
       "      <td>0.0</td>\n",
       "      <td>0.0</td>\n",
       "      <td>0.0</td>\n",
       "      <td>0.0</td>\n",
       "      <td>0.0</td>\n",
       "      <td>0.0</td>\n",
       "      <td>0.0</td>\n",
       "      <td>0.0</td>\n",
       "      <td>0.0</td>\n",
       "      <td>0.0</td>\n",
       "    </tr>\n",
       "    <tr>\n",
       "      <th>19997</th>\n",
       "      <td>0.0</td>\n",
       "      <td>0.0</td>\n",
       "      <td>0.0</td>\n",
       "      <td>0.0</td>\n",
       "      <td>0.0</td>\n",
       "      <td>0.0</td>\n",
       "      <td>0.0</td>\n",
       "      <td>0.0</td>\n",
       "      <td>0.0</td>\n",
       "      <td>0.0</td>\n",
       "      <td>...</td>\n",
       "      <td>0.0</td>\n",
       "      <td>0.0</td>\n",
       "      <td>0.0</td>\n",
       "      <td>0.0</td>\n",
       "      <td>0.0</td>\n",
       "      <td>0.0</td>\n",
       "      <td>0.0</td>\n",
       "      <td>0.0</td>\n",
       "      <td>0.0</td>\n",
       "      <td>0.0</td>\n",
       "    </tr>\n",
       "    <tr>\n",
       "      <th>19998</th>\n",
       "      <td>0.0</td>\n",
       "      <td>0.0</td>\n",
       "      <td>0.0</td>\n",
       "      <td>0.0</td>\n",
       "      <td>0.0</td>\n",
       "      <td>0.0</td>\n",
       "      <td>0.0</td>\n",
       "      <td>0.0</td>\n",
       "      <td>0.0</td>\n",
       "      <td>0.0</td>\n",
       "      <td>...</td>\n",
       "      <td>0.0</td>\n",
       "      <td>0.0</td>\n",
       "      <td>0.0</td>\n",
       "      <td>0.0</td>\n",
       "      <td>0.0</td>\n",
       "      <td>0.0</td>\n",
       "      <td>0.0</td>\n",
       "      <td>0.0</td>\n",
       "      <td>0.0</td>\n",
       "      <td>0.0</td>\n",
       "    </tr>\n",
       "    <tr>\n",
       "      <th>19999</th>\n",
       "      <td>0.0</td>\n",
       "      <td>0.0</td>\n",
       "      <td>0.0</td>\n",
       "      <td>0.0</td>\n",
       "      <td>0.0</td>\n",
       "      <td>0.0</td>\n",
       "      <td>0.0</td>\n",
       "      <td>0.0</td>\n",
       "      <td>0.0</td>\n",
       "      <td>0.0</td>\n",
       "      <td>...</td>\n",
       "      <td>0.0</td>\n",
       "      <td>0.0</td>\n",
       "      <td>0.0</td>\n",
       "      <td>0.0</td>\n",
       "      <td>0.0</td>\n",
       "      <td>0.0</td>\n",
       "      <td>0.0</td>\n",
       "      <td>0.0</td>\n",
       "      <td>0.0</td>\n",
       "      <td>0.0</td>\n",
       "    </tr>\n",
       "  </tbody>\n",
       "</table>\n",
       "<p>5 rows × 12992 columns</p>\n",
       "</div>"
      ],
      "text/plain": [
       "        aa  aaawas  aafter  aand  aarangements  aback  abad  abandon  \\\n",
       "19995  0.0     0.0     0.0   0.0           0.0    0.0   0.0      0.0   \n",
       "19996  0.0     0.0     0.0   0.0           0.0    0.0   0.0      0.0   \n",
       "19997  0.0     0.0     0.0   0.0           0.0    0.0   0.0      0.0   \n",
       "19998  0.0     0.0     0.0   0.0           0.0    0.0   0.0      0.0   \n",
       "19999  0.0     0.0     0.0   0.0           0.0    0.0   0.0      0.0   \n",
       "\n",
       "       abandoned  abbey  ...  zita  zlatki  zoltan  zombie  zone  zoo  zore  \\\n",
       "19995        0.0    0.0  ...   0.0     0.0     0.0     0.0   0.0  0.0   0.0   \n",
       "19996        0.0    0.0  ...   0.0     0.0     0.0     0.0   0.0  0.0   0.0   \n",
       "19997        0.0    0.0  ...   0.0     0.0     0.0     0.0   0.0  0.0   0.0   \n",
       "19998        0.0    0.0  ...   0.0     0.0     0.0     0.0   0.0  0.0   0.0   \n",
       "19999        0.0    0.0  ...   0.0     0.0     0.0     0.0   0.0  0.0   0.0   \n",
       "\n",
       "       ztaff  zuid  zusje  \n",
       "19995    0.0   0.0    0.0  \n",
       "19996    0.0   0.0    0.0  \n",
       "19997    0.0   0.0    0.0  \n",
       "19998    0.0   0.0    0.0  \n",
       "19999    0.0   0.0    0.0  \n",
       "\n",
       "[5 rows x 12992 columns]"
      ]
     },
     "execution_count": 25,
     "metadata": {},
     "output_type": "execute_result"
    }
   ],
   "source": [
    "feature_df = pd.DataFrame(data=features, columns=vectorizer.get_feature_names_out())\n",
    "feature_df.tail()"
   ]
  },
  {
   "cell_type": "markdown",
   "metadata": {},
   "source": [
    "Highlights the most common features (words) used to describe a review"
   ]
  },
  {
   "cell_type": "code",
   "execution_count": 26,
   "metadata": {},
   "outputs": [
    {
     "name": "stdout",
     "output_type": "stream",
     "text": [
      "['aa' 'aaawas' 'aafter' ... 'ztaff' 'zuid' 'zusje']\n"
     ]
    }
   ],
   "source": [
    "print(vectorizer.get_feature_names_out())"
   ]
  },
  {
   "cell_type": "code",
   "execution_count": 27,
   "metadata": {},
   "outputs": [
    {
     "data": {
      "text/plain": [
       "20000"
      ]
     },
     "execution_count": 27,
     "metadata": {},
     "output_type": "execute_result"
    }
   ],
   "source": [
    "labels = dataset['sentiment'].tolist()\n",
    "len(labels)"
   ]
  },
  {
   "cell_type": "markdown",
   "metadata": {},
   "source": [
    "### Splitting the dataset\n",
    "In this section, the `test_train_split()` function returns four items, the __training features__, the __training labels__, the __test features__ and the __test labels__."
   ]
  },
  {
   "cell_type": "code",
   "execution_count": null,
   "metadata": {},
   "outputs": [],
   "source": [
    "X_train, X_test, y_train, y_test = train_test_split(features, labels, test_size=0.20, random_state=0)"
   ]
  },
  {
   "cell_type": "code",
   "execution_count": null,
   "metadata": {},
   "outputs": [],
   "source": [
    "print(X_train)"
   ]
  },
  {
   "cell_type": "markdown",
   "metadata": {},
   "source": [
    "## Training and Testing the Models\n",
    "In this section, we will use the features and labels to train and test the models. In this application, we will experiment with four classifier algorithms, namely:\n",
    "\n",
    "1. Gaussian Naive-Bayes Classifier\n",
    "2. Random Forest Classifier\n",
    "3. Logistic Regression Classifier\n",
    "4. Stochastic Gradient Descent Classifier"
   ]
  },
  {
   "cell_type": "code",
   "execution_count": null,
   "metadata": {},
   "outputs": [],
   "source": [
    "print(X_train.shape)\n",
    "print(X_test.shape)"
   ]
  },
  {
   "cell_type": "markdown",
   "metadata": {},
   "source": [
    "### Gaussian Naive-Bayes Classifier"
   ]
  },
  {
   "cell_type": "code",
   "execution_count": null,
   "metadata": {},
   "outputs": [],
   "source": [
    "naive_bayes_classifier = GaussianNB()\n",
    "naive_bayes_classifier.fit(X_train, y_train)"
   ]
  },
  {
   "cell_type": "code",
   "execution_count": null,
   "metadata": {},
   "outputs": [],
   "source": [
    "naive_bayes_classifier_prediction = naive_bayes_classifier.predict(X_test)\n",
    "print(naive_bayes_classifier_prediction)"
   ]
  },
  {
   "cell_type": "code",
   "execution_count": null,
   "metadata": {},
   "outputs": [],
   "source": [
    "print(f\"Accuracy: {accuracy_score(y_test, naive_bayes_classifier_prediction)}\")"
   ]
  },
  {
   "cell_type": "code",
   "execution_count": null,
   "metadata": {},
   "outputs": [],
   "source": [
    "print(classification_report(y_test, naive_bayes_classifier_prediction))"
   ]
  },
  {
   "cell_type": "markdown",
   "metadata": {},
   "source": [
    "### Random Forest Classifier"
   ]
  },
  {
   "cell_type": "code",
   "execution_count": null,
   "metadata": {},
   "outputs": [],
   "source": [
    "random_forest_classifier = RandomForestClassifier(n_estimators=250, random_state=42)\n",
    "random_forest_classifier.fit(X_train, y_train)"
   ]
  },
  {
   "cell_type": "code",
   "execution_count": null,
   "metadata": {},
   "outputs": [],
   "source": [
    "random_forest_classifier_prediction = random_forest_classifier.predict(X_test)\n",
    "print(random_forest_classifier_prediction)"
   ]
  },
  {
   "cell_type": "code",
   "execution_count": null,
   "metadata": {},
   "outputs": [],
   "source": [
    "print(f\"Accuracy: {accuracy_score(y_test, random_forest_classifier_prediction)}\")"
   ]
  },
  {
   "cell_type": "code",
   "execution_count": null,
   "metadata": {},
   "outputs": [],
   "source": [
    "print(classification_report(y_test, random_forest_classifier_prediction))"
   ]
  },
  {
   "cell_type": "code",
   "execution_count": null,
   "metadata": {},
   "outputs": [],
   "source": [
    "print(confusion_matrix(y_test, random_forest_classifier_prediction))"
   ]
  },
  {
   "cell_type": "markdown",
   "metadata": {},
   "source": [
    "### Logistic Regression Classifier"
   ]
  },
  {
   "cell_type": "code",
   "execution_count": null,
   "metadata": {},
   "outputs": [],
   "source": [
    "logistic_regression_classifier = LogisticRegression(max_iter=1000)\n",
    "logistic_regression_classifier.fit(X_train, y_train)"
   ]
  },
  {
   "cell_type": "code",
   "execution_count": null,
   "metadata": {},
   "outputs": [],
   "source": [
    "logistic_regression_classifier_prediction = logistic_regression_classifier.predict(X_test)\n",
    "print(logistic_regression_classifier_prediction)"
   ]
  },
  {
   "cell_type": "code",
   "execution_count": null,
   "metadata": {},
   "outputs": [],
   "source": [
    "print(f\"Accuracy: {accuracy_score(y_test, logistic_regression_classifier_prediction)}\")"
   ]
  },
  {
   "cell_type": "code",
   "execution_count": null,
   "metadata": {},
   "outputs": [],
   "source": [
    "print(classification_report(y_test, logistic_regression_classifier_prediction))"
   ]
  },
  {
   "cell_type": "code",
   "execution_count": null,
   "metadata": {},
   "outputs": [],
   "source": [
    "print(confusion_matrix(y_test, logistic_regression_classifier_prediction))"
   ]
  },
  {
   "cell_type": "markdown",
   "metadata": {},
   "source": [
    "### Stochastic Gradient Descent Classifier (SGD)"
   ]
  },
  {
   "cell_type": "code",
   "execution_count": null,
   "metadata": {},
   "outputs": [],
   "source": [
    "sgd_classifier = SGDClassifier(loss='modified_huber')\n",
    "sgd_classifier.fit(X_train, y_train)"
   ]
  },
  {
   "cell_type": "code",
   "execution_count": null,
   "metadata": {},
   "outputs": [],
   "source": [
    "sgd_classifier_prediction = sgd_classifier.predict(X_test)"
   ]
  },
  {
   "cell_type": "code",
   "execution_count": null,
   "metadata": {},
   "outputs": [],
   "source": [
    "print(f\"Accuracy: {accuracy_score(y_test, sgd_classifier_prediction)}\")"
   ]
  },
  {
   "cell_type": "code",
   "execution_count": null,
   "metadata": {},
   "outputs": [],
   "source": [
    "print(classification_report(y_test, sgd_classifier_prediction))"
   ]
  },
  {
   "cell_type": "markdown",
   "metadata": {},
   "source": [
    "### Multinomial Naive-Bayes Classifier"
   ]
  },
  {
   "cell_type": "code",
   "execution_count": null,
   "metadata": {},
   "outputs": [],
   "source": [
    "mnb_classifier = MultinomialNB()\n",
    "mnb_classifier.fit(X_train, y_train)"
   ]
  },
  {
   "cell_type": "code",
   "execution_count": null,
   "metadata": {},
   "outputs": [],
   "source": [
    "mnb_classifier_prediction = mnb_classifier.predict(X_test)"
   ]
  },
  {
   "cell_type": "code",
   "execution_count": null,
   "metadata": {},
   "outputs": [],
   "source": [
    "print(f\"Accuracy: {accuracy_score(y_test, mnb_classifier_prediction)}\")"
   ]
  },
  {
   "cell_type": "code",
   "execution_count": null,
   "metadata": {},
   "outputs": [],
   "source": [
    "print(classification_report(y_test, mnb_classifier_prediction))"
   ]
  },
  {
   "cell_type": "code",
   "execution_count": null,
   "metadata": {},
   "outputs": [],
   "source": [
    "print(confusion_matrix(y_test, mnb_classifier_prediction))"
   ]
  },
  {
   "cell_type": "markdown",
   "metadata": {},
   "source": [
    "## Save the trained models for future use"
   ]
  },
  {
   "cell_type": "markdown",
   "metadata": {},
   "source": [
    "The trained models will be saved using Pickle."
   ]
  },
  {
   "cell_type": "code",
   "execution_count": null,
   "metadata": {},
   "outputs": [],
   "source": [
    "naive_bayes_file = open('trained_models/NaiveBayes', 'wb')\n",
    "random_forest_file = open('trained_models/RandomForest', 'wb')\n",
    "logistic_regression_file = open('trained_models/LogisticRegression', 'wb')\n",
    "sgd_file = open('trained_models/SGD', 'wb')\n",
    "mnb_file = open('trained_models/MNB', 'wb')\n",
    "\n",
    "vectorizer_file = open('feature_extractor/vectorizer', 'wb')\n",
    "\n",
    "pickle.dump(naive_bayes_classifier, naive_bayes_file)\n",
    "pickle.dump(random_forest_classifier, random_forest_file)\n",
    "pickle.dump(logistic_regression_classifier, logistic_regression_file)\n",
    "pickle.dump(sgd_classifier, sgd_file)\n",
    "pickle.dump(mnb_classifier, mnb_file)\n",
    "\n",
    "pickle.dump(vectorizer, vectorizer_file)\n",
    "\n",
    "naive_bayes_file.close()\n",
    "random_forest_file.close()\n",
    "logistic_regression_file.close()\n",
    "sgd_file.close()\n",
    "mnb_file.close()\n",
    "\n",
    "vectorizer_file.close()"
   ]
  }
 ],
 "metadata": {
  "kernelspec": {
   "display_name": "Python 3 (ipykernel)",
   "language": "python",
   "name": "python3"
  },
  "language_info": {
   "codemirror_mode": {
    "name": "ipython",
    "version": 3
   },
   "file_extension": ".py",
   "mimetype": "text/x-python",
   "name": "python",
   "nbconvert_exporter": "python",
   "pygments_lexer": "ipython3",
   "version": "3.10.1"
  },
  "vscode": {
   "interpreter": {
    "hash": "aee8b7b246df8f9039afb4144a1f6fd8d2ca17a180786b69acc140d282b71a49"
   }
  }
 },
 "nbformat": 4,
 "nbformat_minor": 4
}
