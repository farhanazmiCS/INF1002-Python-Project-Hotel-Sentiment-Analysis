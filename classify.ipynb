{
 "cells": [
  {
   "cell_type": "markdown",
   "metadata": {},
   "source": [
    "# Using the model\n",
    "Using the trained models on the dataset scraped from Tripadvisor"
   ]
  },
  {
   "cell_type": "code",
   "execution_count": 1,
   "metadata": {},
   "outputs": [],
   "source": [
    "import os"
   ]
  },
  {
   "cell_type": "code",
   "execution_count": 2,
   "metadata": {},
   "outputs": [],
   "source": [
    "import pandas as pd\n",
    "import numpy as np"
   ]
  },
  {
   "cell_type": "markdown",
   "metadata": {},
   "source": [
    "Assessing the results using Confusion Matrix and Classification Report"
   ]
  },
  {
   "cell_type": "code",
   "execution_count": 3,
   "metadata": {},
   "outputs": [],
   "source": [
    "from sklearn.metrics import confusion_matrix, classification_report, accuracy_score"
   ]
  },
  {
   "cell_type": "markdown",
   "metadata": {},
   "source": [
    "Importing data preprocessor functions"
   ]
  },
  {
   "cell_type": "code",
   "execution_count": 4,
   "metadata": {},
   "outputs": [
    {
     "name": "stderr",
     "output_type": "stream",
     "text": [
      "[nltk_data] Downloading package punkt to /Users/farhan/nltk_data...\n",
      "[nltk_data]   Package punkt is already up-to-date!\n",
      "[nltk_data] Downloading package stopwords to\n",
      "[nltk_data]     /Users/farhan/nltk_data...\n",
      "[nltk_data]   Package stopwords is already up-to-date!\n",
      "[nltk_data] Downloading package wordnet to /Users/farhan/nltk_data...\n",
      "[nltk_data]   Package wordnet is already up-to-date!\n",
      "[nltk_data] Downloading package averaged_perceptron_tagger to\n",
      "[nltk_data]     /Users/farhan/nltk_data...\n",
      "[nltk_data]   Package averaged_perceptron_tagger is already up-to-\n",
      "[nltk_data]       date!\n",
      "[nltk_data] Downloading package omw-1.4 to /Users/farhan/nltk_data...\n",
      "[nltk_data]   Package omw-1.4 is already up-to-date!\n"
     ]
    }
   ],
   "source": [
    "from data_preprocessor import read_file, reviews_to_list, text_preprocessing, form_corpus"
   ]
  },
  {
   "cell_type": "markdown",
   "metadata": {},
   "source": [
    "Import data exporter"
   ]
  },
  {
   "cell_type": "code",
   "execution_count": null,
   "metadata": {},
   "outputs": [],
   "source": [
    "from export_data import export_data"
   ]
  },
  {
   "cell_type": "markdown",
   "metadata": {},
   "source": [
    "Importing the models and the feature extractor"
   ]
  },
  {
   "cell_type": "code",
   "execution_count": null,
   "metadata": {},
   "outputs": [],
   "source": [
    "random_forest_classifier = pd.read_pickle('trained_models/RandomForest')\n",
    "logistic_regression_classifier = pd.read_pickle('trained_models/LogisticRegression')\n",
    "sgd_classifier = pd.read_pickle('trained_models/SGD')\n",
    "mnb_classifier = pd.read_pickle('trained_models/MNB')\n",
    "vectorizer = pd.read_pickle('feature_extractor/vectorizer')"
   ]
  },
  {
   "cell_type": "markdown",
   "metadata": {},
   "source": [
    "# Using the trained models on our own dataset\n",
    "In this section, we will be using the dataset scraped from __Tripadvisor__ to determine the hotel review sentiment."
   ]
  },
  {
   "cell_type": "markdown",
   "metadata": {},
   "source": [
    "## Reading the files"
   ]
  },
  {
   "cell_type": "code",
   "execution_count": null,
   "metadata": {},
   "outputs": [],
   "source": [
    "dataset_mbs_good = read_file('processed_tripadvisor_data/tripadvisor_mbs_good.csv')\n",
    "dataset_mbs_bad = read_file('processed_tripadvisor_data/tripadvisor_mbs_bad.csv')\n",
    "\n",
    "dataset_shangrila_good = read_file('processed_tripadvisor_data/tripadvisor_shangrila_good.csv')\n",
    "dataset_shangrila_bad = read_file('processed_tripadvisor_data/tripadvisor_shangrila_bad.csv')\n",
    "\n",
    "dataset_fullerton_good = read_file('processed_tripadvisor_data/tripadvisor_fullerton_good.csv')\n",
    "dataset_fullerton_bad = read_file('processed_tripadvisor_data/tripadvisor_fullerton_bad.csv')"
   ]
  },
  {
   "cell_type": "markdown",
   "metadata": {},
   "source": [
    "Number of Good and Bad reviews for each hotel"
   ]
  },
  {
   "cell_type": "code",
   "execution_count": null,
   "metadata": {},
   "outputs": [],
   "source": [
    "print(f'Number of good MBS reviews: {dataset_mbs_good.shape}')\n",
    "print(f'Number of bad MBS reviews: {dataset_mbs_bad.shape}')\n",
    "\n",
    "print(f'Number of good Shangri-La reviews: {dataset_shangrila_good.shape}')\n",
    "print(f'Number of bad Shangri-La reviews: {dataset_shangrila_bad.shape}')\n",
    "\n",
    "print(f'Number of good Fullerton reviews: {dataset_fullerton_good.shape}')\n",
    "print(f'Number of bad Fullerton reviews: {dataset_fullerton_bad.shape}')\n"
   ]
  },
  {
   "cell_type": "markdown",
   "metadata": {},
   "source": [
    "Combine the positive and negative datasets"
   ]
  },
  {
   "cell_type": "code",
   "execution_count": null,
   "metadata": {},
   "outputs": [],
   "source": [
    "dataset_mbs = pd.concat([dataset_mbs_good, dataset_mbs_bad]).reset_index()\n",
    "dataset_shangrila = pd.concat([dataset_shangrila_good, dataset_shangrila_bad]).reset_index()\n",
    "dataset_fullerton = pd.concat([dataset_fullerton_good, dataset_fullerton_bad]).reset_index()"
   ]
  },
  {
   "cell_type": "code",
   "execution_count": null,
   "metadata": {},
   "outputs": [],
   "source": [
    "dataset_mbs.head()"
   ]
  },
  {
   "cell_type": "markdown",
   "metadata": {},
   "source": [
    "Create a new column in the dataset, `reviews`, for preprocessing"
   ]
  },
  {
   "cell_type": "code",
   "execution_count": null,
   "metadata": {},
   "outputs": [],
   "source": [
    "dataset_mbs[\"reviews\"] = dataset_mbs[\"reviewContent\"]\n",
    "dataset_shangrila[\"reviews\"] = dataset_shangrila[\"reviewContent\"]\n",
    "dataset_fullerton[\"reviews\"] = dataset_fullerton[\"reviewContent\"]"
   ]
  },
  {
   "cell_type": "markdown",
   "metadata": {},
   "source": [
    "## Data Preprocessing"
   ]
  },
  {
   "cell_type": "markdown",
   "metadata": {},
   "source": [
    "Convert the `reviews` column to a list"
   ]
  },
  {
   "cell_type": "code",
   "execution_count": null,
   "metadata": {},
   "outputs": [],
   "source": [
    "mbs_reviews = reviews_to_list(dataset_mbs)\n",
    "shangrila_reviews = reviews_to_list(dataset_shangrila)\n",
    "fullerton_reviews = reviews_to_list(dataset_fullerton)"
   ]
  },
  {
   "cell_type": "code",
   "execution_count": null,
   "metadata": {},
   "outputs": [],
   "source": [
    "mbs_reviews_processed = [text_preprocessing(review) for review in mbs_reviews]\n",
    "shangrila_reviews_processed = [text_preprocessing(review) for review in shangrila_reviews]\n",
    "fullerton_reviews_processed = [text_preprocessing(review) for review in fullerton_reviews]"
   ]
  },
  {
   "cell_type": "markdown",
   "metadata": {},
   "source": [
    "Form review corpuses"
   ]
  },
  {
   "cell_type": "code",
   "execution_count": null,
   "metadata": {},
   "outputs": [],
   "source": [
    "mbs_corpus = form_corpus(mbs_reviews_processed)\n",
    "shangrila_corpus = form_corpus(shangrila_reviews_processed)\n",
    "fullerton_corpus = form_corpus(fullerton_reviews_processed)"
   ]
  },
  {
   "cell_type": "markdown",
   "metadata": {},
   "source": [
    "Extract features from reviews"
   ]
  },
  {
   "cell_type": "code",
   "execution_count": null,
   "metadata": {},
   "outputs": [],
   "source": [
    "mbs_features = vectorizer.transform(mbs_corpus).toarray()\n",
    "shangrila_features = vectorizer.transform(shangrila_corpus).toarray()\n",
    "fullerton_features = vectorizer.transform(fullerton_corpus).toarray()\n",
    "\n",
    "print(mbs_features.shape)\n",
    "print(shangrila_features.shape)\n",
    "print(fullerton_features.shape)"
   ]
  },
  {
   "cell_type": "markdown",
   "metadata": {},
   "source": [
    "Retrieve \"correct\" labels"
   ]
  },
  {
   "cell_type": "code",
   "execution_count": null,
   "metadata": {},
   "outputs": [],
   "source": [
    "mbs_labels = dataset_mbs['sentiment'].tolist()\n",
    "shangrila_labels = dataset_shangrila['sentiment'].tolist()\n",
    "fullerton_labels = dataset_fullerton['sentiment'].tolist()"
   ]
  },
  {
   "cell_type": "markdown",
   "metadata": {},
   "source": [
    "## Applying the processed data to our models"
   ]
  },
  {
   "cell_type": "markdown",
   "metadata": {},
   "source": [
    "Random Forest Classifier"
   ]
  },
  {
   "cell_type": "code",
   "execution_count": null,
   "metadata": {},
   "outputs": [],
   "source": [
    "random_forest_mbs = random_forest_classifier.predict(mbs_features)\n",
    "random_forest_shangrila = random_forest_classifier.predict(shangrila_features)\n",
    "random_forest_fullerton = random_forest_classifier.predict(fullerton_features)\n",
    "\n",
    "print(f'Accuracy for MBS using Random Forest Classifier: {accuracy_score(mbs_labels, random_forest_mbs)}')\n",
    "print(f'Accuracy for Shangri-La using Random Forest Classifier: {accuracy_score(shangrila_labels, random_forest_shangrila)}')\n",
    "print(f'Accuracy for Fullerton using Random Forest Classifier: {accuracy_score(fullerton_labels, random_forest_fullerton)}')"
   ]
  },
  {
   "cell_type": "code",
   "execution_count": null,
   "metadata": {},
   "outputs": [],
   "source": [
    "print(confusion_matrix(mbs_labels, random_forest_mbs))"
   ]
  },
  {
   "cell_type": "code",
   "execution_count": null,
   "metadata": {},
   "outputs": [],
   "source": [
    "print(classification_report(mbs_labels, random_forest_mbs))\n",
    "print(classification_report(shangrila_labels, random_forest_shangrila))\n",
    "print(classification_report(fullerton_labels, random_forest_fullerton))"
   ]
  },
  {
   "cell_type": "markdown",
   "metadata": {},
   "source": [
    "Logistic Regression Classifier"
   ]
  },
  {
   "cell_type": "code",
   "execution_count": null,
   "metadata": {},
   "outputs": [],
   "source": [
    "logistic_regression_mbs = logistic_regression_classifier.predict(mbs_features)\n",
    "logistic_regression_shangrila = logistic_regression_classifier.predict(shangrila_features)\n",
    "logistic_regression_fullerton = logistic_regression_classifier.predict(fullerton_features)\n",
    "\n",
    "print(f'Accuracy for MBS using Logistic Regression Classifier: {accuracy_score(mbs_labels, logistic_regression_mbs)}')\n",
    "print(f'Accuracy for Shangri-La using Logistic Regression Classifier: {accuracy_score(shangrila_labels, logistic_regression_shangrila)}')\n",
    "print(f'Accuracy for Fullerton using Logistic Regression Classifier: {accuracy_score(fullerton_labels, logistic_regression_fullerton)}')"
   ]
  },
  {
   "cell_type": "code",
   "execution_count": null,
   "metadata": {},
   "outputs": [],
   "source": [
    "print(classification_report(mbs_labels, logistic_regression_mbs))\n",
    "print(classification_report(shangrila_labels, logistic_regression_shangrila))\n",
    "print(classification_report(fullerton_labels, logistic_regression_fullerton))"
   ]
  },
  {
   "cell_type": "markdown",
   "metadata": {},
   "source": [
    "SGD Classifier"
   ]
  },
  {
   "cell_type": "code",
   "execution_count": null,
   "metadata": {},
   "outputs": [],
   "source": [
    "sgd_mbs = sgd_classifier.predict(mbs_features)\n",
    "sgd_shangrila = sgd_classifier.predict(shangrila_features)\n",
    "sgd_fullerton = sgd_classifier.predict(fullerton_features)\n",
    "\n",
    "print(f'Accuracy for MBS using SGD Classifier: {accuracy_score(mbs_labels, sgd_mbs)}')\n",
    "print(f'Accuracy for Shangri-La using SGD Classifier: {accuracy_score(shangrila_labels, sgd_shangrila)}')\n",
    "print(f'Accuracy for Fullerton using SGD Classifier: {accuracy_score(fullerton_labels, sgd_fullerton)}')"
   ]
  },
  {
   "cell_type": "code",
   "execution_count": null,
   "metadata": {},
   "outputs": [],
   "source": [
    "sgd_mbs_proba = sgd_classifier.predict_proba(mbs_features)\n",
    "sgd_shangrila_proba = sgd_classifier.predict_proba(shangrila_features)\n",
    "sgd_fullerton_proba = sgd_classifier.predict_proba(fullerton_features)"
   ]
  },
  {
   "cell_type": "code",
   "execution_count": null,
   "metadata": {},
   "outputs": [],
   "source": [
    "print(confusion_matrix(mbs_labels, sgd_mbs))\n",
    "print(confusion_matrix(shangrila_labels, sgd_shangrila))\n",
    "print(confusion_matrix(fullerton_labels, sgd_fullerton))"
   ]
  },
  {
   "cell_type": "code",
   "execution_count": null,
   "metadata": {},
   "outputs": [],
   "source": [
    "print(classification_report(mbs_labels, sgd_mbs))\n",
    "print(classification_report(shangrila_labels, sgd_shangrila))\n",
    "print(classification_report(fullerton_labels, sgd_fullerton))"
   ]
  },
  {
   "cell_type": "markdown",
   "metadata": {},
   "source": [
    "__MNB Classifier__"
   ]
  },
  {
   "cell_type": "code",
   "execution_count": null,
   "metadata": {},
   "outputs": [],
   "source": [
    "mnb_mbs = mnb_classifier.predict(mbs_features)\n",
    "mnb_shangrila = mnb_classifier.predict(shangrila_features)\n",
    "mnb_fullerton = mnb_classifier.predict(fullerton_features)\n",
    "\n",
    "print(f'Accuracy for MBS using MNB Classifier: {accuracy_score(mbs_labels, mnb_mbs)}')\n",
    "print(f'Accuracy for Shangri-La using MNB Classifier: {accuracy_score(shangrila_labels, mnb_shangrila)}')\n",
    "print(f'Accuracy for Fullerton using MNB Classifier: {accuracy_score(fullerton_labels, mnb_fullerton)}')"
   ]
  },
  {
   "cell_type": "code",
   "execution_count": null,
   "metadata": {},
   "outputs": [],
   "source": [
    "mnb_mbs_proba = mnb_classifier.predict_proba(mbs_features)\n",
    "mnb_shangrila_proba = mnb_classifier.predict_proba(shangrila_features)\n",
    "mnb_fullerton_proba = mnb_classifier.predict_proba(fullerton_features)"
   ]
  },
  {
   "cell_type": "code",
   "execution_count": null,
   "metadata": {},
   "outputs": [],
   "source": [
    "print(classification_report(mbs_labels, mnb_mbs))\n",
    "print(classification_report(shangrila_labels, mnb_shangrila))\n",
    "print(classification_report(fullerton_labels, mnb_fullerton))"
   ]
  },
  {
   "cell_type": "markdown",
   "metadata": {},
   "source": [
    "## Exporting the classified and labelled data"
   ]
  },
  {
   "cell_type": "code",
   "execution_count": null,
   "metadata": {},
   "outputs": [],
   "source": [
    "def lower(string: str) -> str:\n",
    "    \"\"\" Convert the labels to lowercase (For ease of parsing to the web application). Returns string. \"\"\"\n",
    "    return string.lower()\n",
    "\n",
    "path = os.path.abspath(os.path.join(os.getcwd(), os.pardir)) + '/cleanedData'\n",
    "\n",
    "export_data(path, 'tripadvisor_mbs', dataset_mbs, ['reviewerName', 'reviewDate', 'reviewContent', 'reviewRating'], list(map(lower, sgd_mbs)), sgd_mbs_proba, mbs_corpus)\n",
    "export_data(path, 'tripadvisor_shangrila', dataset_shangrila, ['reviewerName', 'reviewDate', 'reviewContent', 'reviewRating'], list(map(lower, sgd_shangrila)), sgd_shangrila_proba, shangrila_corpus)\n",
    "export_data(path, 'tripadvisor_fullerton', dataset_fullerton, ['reviewerName', 'reviewDate', 'reviewContent', 'reviewRating'], list(map(lower, sgd_fullerton)), sgd_fullerton_proba, fullerton_corpus)"
   ]
  }
 ],
 "metadata": {
  "kernelspec": {
   "display_name": "Python 3 (ipykernel)",
   "language": "python",
   "name": "python3"
  },
  "language_info": {
   "codemirror_mode": {
    "name": "ipython",
    "version": 3
   },
   "file_extension": ".py",
   "mimetype": "text/x-python",
   "name": "python",
   "nbconvert_exporter": "python",
   "pygments_lexer": "ipython3",
   "version": "3.10.1"
  },
  "vscode": {
   "interpreter": {
    "hash": "aee8b7b246df8f9039afb4144a1f6fd8d2ca17a180786b69acc140d282b71a49"
   }
  }
 },
 "nbformat": 4,
 "nbformat_minor": 2
}
